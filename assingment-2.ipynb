{
 "cells": [
  {
   "cell_type": "markdown",
   "id": "cc71baf7",
   "metadata": {},
   "source": [
    "#Practical Assingment 2-Python \n",
    "Quetions :"
   ]
  },
  {
   "cell_type": "markdown",
   "id": "0aedaf22",
   "metadata": {},
   "source": [
    "1. Write a Python program to convert kilometers to miles?"
   ]
  },
  {
   "cell_type": "code",
   "execution_count": 4,
   "id": "1922cad3",
   "metadata": {},
   "outputs": [
    {
     "name": "stdout",
     "output_type": "stream",
     "text": [
      "Enter distance (km)5\n",
      "5 Km is: 3.1 miles\n"
     ]
    }
   ],
   "source": [
    "a=int(input (\"Enter distance (km)\"))\n",
    "#covert kilometer to miles\n",
    "b=0.62 * a\n",
    "print (a,\"Km is:\",b,\"miles\")"
   ]
  },
  {
   "cell_type": "markdown",
   "id": "a9721b83",
   "metadata": {},
   "source": [
    "2. Write a Python program to convert Celsius to Fahrenheit?"
   ]
  },
  {
   "cell_type": "code",
   "execution_count": 10,
   "id": "fba1d9e8",
   "metadata": {},
   "outputs": [
    {
     "name": "stdout",
     "output_type": "stream",
     "text": [
      "Enter Temp in Celsius: 40\n",
      "40 Celsius is: 104.0 Fahrenheit\n"
     ]
    }
   ],
   "source": [
    "a=int(input (\"Enter Temp in Celsius: \"))\n",
    "#to convert Celsius to Fahrenheit\n",
    "f= (a * 9/5) + 32 \n",
    "print (a,\"Celsius is:\",f,\"Fahrenheit\")\n",
    "\n"
   ]
  },
  {
   "cell_type": "markdown",
   "id": "7674d4fa",
   "metadata": {},
   "source": [
    "3. Write a Python program to display calendar?"
   ]
  },
  {
   "cell_type": "code",
   "execution_count": 17,
   "id": "8a029483",
   "metadata": {},
   "outputs": [
    {
     "name": "stdout",
     "output_type": "stream",
     "text": [
      "                                  2023\n",
      "\n",
      "      January                   February                   March\n",
      "Mo Tu We Th Fr Sa Su      Mo Tu We Th Fr Sa Su      Mo Tu We Th Fr Sa Su\n",
      "                   1             1  2  3  4  5             1  2  3  4  5\n",
      " 2  3  4  5  6  7  8       6  7  8  9 10 11 12       6  7  8  9 10 11 12\n",
      " 9 10 11 12 13 14 15      13 14 15 16 17 18 19      13 14 15 16 17 18 19\n",
      "16 17 18 19 20 21 22      20 21 22 23 24 25 26      20 21 22 23 24 25 26\n",
      "23 24 25 26 27 28 29      27 28                     27 28 29 30 31\n",
      "30 31\n",
      "\n",
      "       April                      May                       June\n",
      "Mo Tu We Th Fr Sa Su      Mo Tu We Th Fr Sa Su      Mo Tu We Th Fr Sa Su\n",
      "                1  2       1  2  3  4  5  6  7                1  2  3  4\n",
      " 3  4  5  6  7  8  9       8  9 10 11 12 13 14       5  6  7  8  9 10 11\n",
      "10 11 12 13 14 15 16      15 16 17 18 19 20 21      12 13 14 15 16 17 18\n",
      "17 18 19 20 21 22 23      22 23 24 25 26 27 28      19 20 21 22 23 24 25\n",
      "24 25 26 27 28 29 30      29 30 31                  26 27 28 29 30\n",
      "\n",
      "        July                     August                  September\n",
      "Mo Tu We Th Fr Sa Su      Mo Tu We Th Fr Sa Su      Mo Tu We Th Fr Sa Su\n",
      "                1  2          1  2  3  4  5  6                   1  2  3\n",
      " 3  4  5  6  7  8  9       7  8  9 10 11 12 13       4  5  6  7  8  9 10\n",
      "10 11 12 13 14 15 16      14 15 16 17 18 19 20      11 12 13 14 15 16 17\n",
      "17 18 19 20 21 22 23      21 22 23 24 25 26 27      18 19 20 21 22 23 24\n",
      "24 25 26 27 28 29 30      28 29 30 31               25 26 27 28 29 30\n",
      "31\n",
      "\n",
      "      October                   November                  December\n",
      "Mo Tu We Th Fr Sa Su      Mo Tu We Th Fr Sa Su      Mo Tu We Th Fr Sa Su\n",
      "                   1             1  2  3  4  5                   1  2  3\n",
      " 2  3  4  5  6  7  8       6  7  8  9 10 11 12       4  5  6  7  8  9 10\n",
      " 9 10 11 12 13 14 15      13 14 15 16 17 18 19      11 12 13 14 15 16 17\n",
      "16 17 18 19 20 21 22      20 21 22 23 24 25 26      18 19 20 21 22 23 24\n",
      "23 24 25 26 27 28 29      27 28 29 30               25 26 27 28 29 30 31\n",
      "30 31\n",
      "\n"
     ]
    }
   ],
   "source": [
    "import calendar \n",
    "cal= calendar.calendar(2023) #takes argument as year \n",
    "print (cal)"
   ]
  },
  {
   "cell_type": "markdown",
   "id": "1e713c3e",
   "metadata": {},
   "source": [
    "4. Write a Python program to solve quadratic equation?"
   ]
  },
  {
   "cell_type": "code",
   "execution_count": 2,
   "id": "ed7cf551",
   "metadata": {},
   "outputs": [
    {
     "name": "stdout",
     "output_type": "stream",
     "text": [
      "Enter variable with degree 21\n",
      "Enter variable with degree 1 5\n",
      "Enter variable with constatnt8\n",
      "1 x^2 + 5 x + 8\n",
      "Solution is :\n",
      "0.8660254037844386\n"
     ]
    }
   ],
   "source": [
    "import math\n",
    "a=int(input (\"Enter variable with degree 2\"))\n",
    "b=int(input (\"Enter variable with degree 1 \"))\n",
    "c=int(input (\"Enter variable with constatnt\"))\n",
    "\n",
    "\n",
    "#qudratic equation :\n",
    "print ( a,\"x^2\",\"+\",b,\"x\",\"+\",c)\n",
    "print (\"Solution is :\")\n",
    "b=-abs (b) \n",
    "num= math.sqrt(b+(a*c))\n",
    "den=2*a\n",
    "sol=num/den\n",
    "print (sol)\n",
    "\n"
   ]
  },
  {
   "cell_type": "markdown",
   "id": "aaa6c400",
   "metadata": {},
   "source": [
    "5. Write a Python program to swap two variables without temp variable?"
   ]
  },
  {
   "cell_type": "code",
   "execution_count": 3,
   "id": "d000a140",
   "metadata": {},
   "outputs": [
    {
     "name": "stdout",
     "output_type": "stream",
     "text": [
      "Enter 1st variable 80\n",
      "Enter 2nd variable20\n",
      "Swapped numbers: 20 80\n"
     ]
    }
   ],
   "source": [
    "a=int(input (\"Enter 1st variable \"))\n",
    "b=int(input (\"Enter 2nd variable\"))\n",
    "a=a+b\n",
    "b=a-b\n",
    "a=a-b\n",
    "print (\"Swapped numbers:\" , a ,b)"
   ]
  }
 ],
 "metadata": {
  "kernelspec": {
   "display_name": "Python 3 (ipykernel)",
   "language": "python",
   "name": "python3"
  },
  "language_info": {
   "codemirror_mode": {
    "name": "ipython",
    "version": 3
   },
   "file_extension": ".py",
   "mimetype": "text/x-python",
   "name": "python",
   "nbconvert_exporter": "python",
   "pygments_lexer": "ipython3",
   "version": "3.10.9"
  }
 },
 "nbformat": 4,
 "nbformat_minor": 5
}
