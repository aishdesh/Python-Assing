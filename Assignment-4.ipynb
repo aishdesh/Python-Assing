{
 "cells": [
  {
   "cell_type": "code",
   "execution_count": null,
   "id": "84e3c2d3",
   "metadata": {},
   "outputs": [],
   "source": [
    "1. Write a Python Program to Find the Factorial of a Number?\n",
    "2. Write a Python Program to Display the multiplication Table?\n",
    "3. Write a Python Program to Print the Fibonacci sequence?\n",
    "4. Write a Python Program to Check Armstrong Number?\n",
    "5. Write a Python Program to Find Armstrong Number in an Interval?\n",
    "6. Write a Python Program to Find the Sum of Natural Numbers?"
   ]
  },
  {
   "cell_type": "code",
   "execution_count": 5,
   "id": "e4c5abcf",
   "metadata": {
    "collapsed": true
   },
   "outputs": [
    {
     "name": "stdout",
     "output_type": "stream",
     "text": [
      "Enter the number8\n",
      "fact is  40320\n"
     ]
    }
   ],
   "source": [
    "#. Write a Python Program to find the factorial of number:\n",
    "n=int (input(\"Enter the number\"))\n",
    "if n==0 :\n",
    "    print (\"No Factorial passible\")\n",
    "elif n==1:\n",
    "    print (\"fact is 1\")\n",
    "else :\n",
    "    fact=1\n",
    "    for i in range (1,n+1):\n",
    "        fact=fact *i\n",
    "    print (\"fact is \" ,fact)\n"
   ]
  },
  {
   "cell_type": "markdown",
   "id": "30c478c7",
   "metadata": {},
   "source": [
    "Write a Python Program to Display the multiplication Table"
   ]
  },
  {
   "cell_type": "code",
   "execution_count": 13,
   "id": "37cc0676",
   "metadata": {
    "collapsed": true
   },
   "outputs": [
    {
     "name": "stdout",
     "output_type": "stream",
     "text": [
      "Enter the number4\n",
      "4\n",
      "8\n",
      "12\n",
      "16\n",
      "20\n",
      "24\n",
      "28\n",
      "32\n",
      "36\n",
      "40\n"
     ]
    }
   ],
   "source": [
    "num= int (input(\"Enter the number\"))\n",
    "if num==0 :\n",
    "    print (\"No table available\")\n",
    "else:\n",
    "    for i in range (1,11):\n",
    "        print (num*i)\n",
    "    "
   ]
  },
  {
   "cell_type": "code",
   "execution_count": 17,
   "id": "546bed95",
   "metadata": {
    "collapsed": true
   },
   "outputs": [
    {
     "name": "stdout",
     "output_type": "stream",
     "text": [
      "Enter the range5\n",
      "1\n",
      "1\n",
      "2\n",
      "3\n",
      "5\n",
      "8\n"
     ]
    }
   ],
   "source": [
    "#Write a Python Program to Print the Fibonacci sequence\n",
    "fibo =int (input(\"Enter the range\"))\n",
    "n1=0\n",
    "n2=1\n",
    "if fibo==0 :\n",
    "    print (\"1\")\n",
    "\n",
    "else:\n",
    "    print (\"1\")\n",
    "    for i in range (1,fibo+1):\n",
    "        n3=n1+n2\n",
    "        print (n3)\n",
    "        n1=n2\n",
    "        n2=n3\n",
    "        \n",
    "       \n",
    "    "
   ]
  },
  {
   "cell_type": "code",
   "execution_count": 19,
   "id": "b8d2b486",
   "metadata": {
    "collapsed": true
   },
   "outputs": [
    {
     "name": "stdout",
     "output_type": "stream",
     "text": [
      "Enter The number :343\n",
      "118\n",
      "343 is not an armstrong number.\n"
     ]
    }
   ],
   "source": [
    "#Write a Python Program to Check Armstrong Number\n",
    "a=int (input(\"Enter The number :\"))\n",
    "temp=a\n",
    "sum=0\n",
    "while temp>0 :\n",
    "    b=temp%10\n",
    "    sum += b ** 3 # ** order is fuction use to take the (square/Cube)of number\n",
    "    temp //=10 # need to use floor division here else will give wrong answer \n",
    "if a==sum :\n",
    "    print (a , \" is a Armstrong Number.\")\n",
    "else:\n",
    "    print (a , \"is not an armstrong number.\")"
   ]
  },
  {
   "cell_type": "code",
   "execution_count": 29,
   "id": "91741dcd",
   "metadata": {
    "scrolled": true
   },
   "outputs": [
    {
     "name": "stdout",
     "output_type": "stream",
     "text": [
      "Enter The number :400\n",
      "80200.0\n",
      "Sum of natural numbers : 80200.0\n"
     ]
    }
   ],
   "source": [
    "#Write a Python Program to Find the Sum of Natural Numbers?\n",
    "x=int (input(\"Enter The number :\"))\n",
    "sum=0\n",
    "sum= x * ((x+1)/2)\n",
    "print(sum)\n",
    "'''for i in range (1, x+1):\n",
    "    sum=sum +i\n",
    "    print(sum)'''  #for iterative version \n",
    "    \n",
    "print(\"Sum of natural numbers :\" , sum)\n"
   ]
  },
  {
   "cell_type": "code",
   "execution_count": 32,
   "id": "309b777d",
   "metadata": {},
   "outputs": [
    {
     "name": "stdout",
     "output_type": "stream",
     "text": [
      "Enter lower bound1\n",
      "Enter upper bound500\n",
      "1  is a Armstrong Number.\n",
      "153  is a Armstrong Number.\n",
      "370  is a Armstrong Number.\n",
      "371  is a Armstrong Number.\n",
      "407  is a Armstrong Number.\n"
     ]
    }
   ],
   "source": [
    "#Write a Python Program to Find Armstrong Number in an Interval\n",
    "lower_bound=int(input(\"Enter lower bound\"))\n",
    "upper_bound=int(input(\"Enter upper bound\"))\n",
    "for a in range (lower_bound , upper_bound):\n",
    "    temp=a\n",
    "    sum=0\n",
    "    while temp>0 :\n",
    "        b=temp%10\n",
    "        sum += b ** 3 # ** order is fuction use to take the (square/Cube)of number\n",
    "        temp //=10 # need to use floor division here else will give wrong answer \n",
    "    if a==sum :\n",
    "        print (a , \" is a Armstrong Number.\")\n"
   ]
  }
 ],
 "metadata": {
  "kernelspec": {
   "display_name": "Python 3 (ipykernel)",
   "language": "python",
   "name": "python3"
  },
  "language_info": {
   "codemirror_mode": {
    "name": "ipython",
    "version": 3
   },
   "file_extension": ".py",
   "mimetype": "text/x-python",
   "name": "python",
   "nbconvert_exporter": "python",
   "pygments_lexer": "ipython3",
   "version": "3.10.9"
  }
 },
 "nbformat": 4,
 "nbformat_minor": 5
}
