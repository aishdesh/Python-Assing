{
 "cells": [
  {
   "cell_type": "markdown",
   "id": "fe2eea46",
   "metadata": {},
   "source": [
    "#Practical Assingment 1-Python \n",
    "Quetions :\n",
    "1. Write a Python program to print &quot;Hello Python\n",
    "2. Write a Python program to do arithmetical operations addition and division\n",
    "3. Write a Python program to find the area of a triangle\n",
    "4. Write a Python program to swap two variables\n",
    "5. Write a Python program to generate a random number\n"
   ]
  },
  {
   "cell_type": "code",
   "execution_count": 1,
   "id": "a927bd56",
   "metadata": {},
   "outputs": [
    {
     "name": "stdout",
     "output_type": "stream",
     "text": [
      "Hello Python\n"
     ]
    }
   ],
   "source": [
    "print (\"Hello Python\")"
   ]
  },
  {
   "cell_type": "markdown",
   "id": "8d4b0964",
   "metadata": {},
   "source": [
    "2. Write a Python program to do arithmetical operations addition and division"
   ]
  },
  {
   "cell_type": "code",
   "execution_count": 3,
   "id": "fba1d9e8",
   "metadata": {},
   "outputs": [
    {
     "name": "stdout",
     "output_type": "stream",
     "text": [
      "Enter 1st variable10\n",
      "Enter 2nd variable20\n",
      "addition is  30\n",
      "divison is  0.5\n"
     ]
    }
   ],
   "source": [
    "a=int(input (\"Enter 1st variable\"))\n",
    "b=int(input (\"Enter 2nd variable\"))\n",
    "#addition\n",
    "add= a+b\n",
    "print (\"addition is \", add)\n",
    "#divison\n",
    "div=a/b\n",
    "print (\"divison is \", div)\n"
   ]
  },
  {
   "cell_type": "markdown",
   "id": "a006887b",
   "metadata": {},
   "source": [
    "3. Write a Python program to find the area of a triangle "
   ]
  },
  {
   "cell_type": "code",
   "execution_count": 5,
   "id": "8a029483",
   "metadata": {},
   "outputs": [
    {
     "name": "stdout",
     "output_type": "stream",
     "text": [
      "Enter 1st height30\n",
      "Enter 2nd breadth20\n",
      "Area of triangle 300.0\n"
     ]
    }
   ],
   "source": [
    "a=int(input (\"Enter 1st height\"))\n",
    "b=int(input (\"Enter 2nd breadth\"))\n",
    "\n",
    "#area of triangle \n",
    "area= 0.5*(a*b)\n",
    "print (\"Area of triangle\" , area)"
   ]
  },
  {
   "cell_type": "markdown",
   "id": "1466fc2a",
   "metadata": {},
   "source": [
    "4. Write a Python program to swap two variables"
   ]
  },
  {
   "cell_type": "code",
   "execution_count": 6,
   "id": "ed7cf551",
   "metadata": {},
   "outputs": [
    {
     "name": "stdout",
     "output_type": "stream",
     "text": [
      "Enter 1st variable50\n",
      "Enter 2nd variable60\n",
      "60 50\n"
     ]
    }
   ],
   "source": [
    "a=int(input (\"Enter 1st variable\"))\n",
    "b=int(input (\"Enter 2nd variable\"))\n",
    "t=a\n",
    "a=b\n",
    "b=t\n",
    "print (a,b)"
   ]
  },
  {
   "cell_type": "markdown",
   "id": "a5c4502d",
   "metadata": {},
   "source": [
    "5. Write a Python program to generate a random number"
   ]
  },
  {
   "cell_type": "code",
   "execution_count": 7,
   "id": "d000a140",
   "metadata": {},
   "outputs": [
    {
     "name": "stdout",
     "output_type": "stream",
     "text": [
      "0.7026765379992959\n"
     ]
    }
   ],
   "source": [
    "import random\n",
    "number=random.random()\n",
    "print (number)"
   ]
  }
 ],
 "metadata": {
  "kernelspec": {
   "display_name": "Python 3 (ipykernel)",
   "language": "python",
   "name": "python3"
  },
  "language_info": {
   "codemirror_mode": {
    "name": "ipython",
    "version": 3
   },
   "file_extension": ".py",
   "mimetype": "text/x-python",
   "name": "python",
   "nbconvert_exporter": "python",
   "pygments_lexer": "ipython3",
   "version": "3.10.9"
  }
 },
 "nbformat": 4,
 "nbformat_minor": 5
}
